{
 "cells": [
  {
   "cell_type": "code",
   "execution_count": 26,
   "id": "17194ba4-008d-418e-ba7b-f5e8cf992294",
   "metadata": {},
   "outputs": [],
   "source": [
    "# Data Loading Code Runs At This Point\n",
    "import pandas as pd\n",
    "\n",
    "from sklearn.model_selection import train_test_split    \n",
    "\n",
    "from sklearn.metrics import mean_absolute_error\n",
    "from sklearn.tree import DecisionTreeRegressor\n",
    "\n",
    "from sklearn.ensemble import RandomForestRegressor\n",
    "\n",
    "# Load data #\n",
    "def fileReader(path):\n",
    "    data = pd.read_csv(path)\n",
    "    filteredData = data.dropna(axis=0)\n",
    "    return filteredData\n",
    "#gets x,y\n",
    "def makeModel(data, features=[]):\n",
    "    y = data.Price\n",
    "    x = data[features]\n",
    "    return x,y\n",
    "\n",
    "#splits data\n",
    "def split(x, y, rand = 0):\n",
    "    train_x, val_x, train_y, val_y = train_test_split(x, y, random_state = rand)\n",
    "    return train_x, val_x, train_y, val_y\n",
    "\n",
    "#helper function, gets mean error\n",
    "def get_mae(max_leaf_nodes, train_X, val_X, train_y, val_y, rand = 0):\n",
    "    model = DecisionTreeRegressor(max_leaf_nodes=max_leaf_nodes, random_state=rand)\n",
    "    model.fit(train_X, train_y)\n",
    "    preds_val = model.predict(val_X)\n",
    "    mae = mean_absolute_error(val_y, preds_val)\n",
    "    return (mae)\n",
    "\n",
    "#takes in data & number of nodes, finds best one\n",
    "def findNumNodes(train_X, val_X, train_y, val_y, leafList = [5, 50, 500, 5000]):\n",
    "    runningBest = -1\n",
    "    runningNodes = -1\n",
    "    for nodes in leafList:\n",
    "        my_mae = get_mae(nodes, train_X, val_X, train_y, val_y)\n",
    "        if my_mae < runningBest or runningBest == -1:\n",
    "            runningBest = my_mae\n",
    "            runningNodes = nodes\n",
    "        #print(\"Max leaf nodes: %d  \\t\\t Mean Absolute Error:  %d\" %(nodes, my_mae))\n",
    "    return runningNodes\n",
    "    \n",
    "#########################################################################################################\n",
    "def forestModel(train_X, train_y, val_X, val_y):\n",
    "    forest_model = RandomForestRegressor(random_state=1)\n",
    "    forest_model.fit(train_X, train_y)\n",
    "    preds = forest_model.predict(val_X)\n",
    "    MAE = mean_absolute_error(val_y, preds)\n",
    "    #print(MAE)\n",
    "    return MAE\n"
   ]
  },
  {
   "cell_type": "code",
   "execution_count": 35,
   "id": "6d13681b-4761-419c-8cd3-8732e820dcad",
   "metadata": {},
   "outputs": [],
   "source": [
    "#combines all helper functions\n",
    "def model(path, features = [], rand = 0, leafList = [5, 50, 100, 250, 400, 500, 600, 750, 1000, 5000]):\n",
    "    data = fileReader(path)\n",
    "    x, y = makeModel(data, features)\n",
    "    tX, vX, tY, vY = split(x, y, rand)\n",
    "    numNodes = findNumNodes(tX, vX, tY, vY, leafList)\n",
    "    finalModel = DecisionTreeRegressor(max_leaf_nodes = numNodes, random_state = rand)\n",
    "    finalModel.fit(tX, tY)\n",
    "    valPred = finalModel.predict(vX)\n",
    "    valMAE = mean_absolute_error(valPred, vY)\n",
    "    #print(\"Validation MAE for best value of max_leaf_nodes: {:,.0f}\".format(valMAE))\n",
    "\n",
    "    forestMAE = forestModel(tX, tY, vX, vY)\n",
    "    print(\"MAE with DecisionTree: %d\\nMAE with RandForest: %d\" %(valMAE, forestMAE))\n",
    "    print(\"Max nodes for DecisionTree: %d\" %(numNodes))"
   ]
  },
  {
   "cell_type": "code",
   "execution_count": 37,
   "id": "49517866-09ca-45df-9d92-9273f2330664",
   "metadata": {},
   "outputs": [
    {
     "name": "stdout",
     "output_type": "stream",
     "text": [
      "MAE with DecisionTree: 242906\n",
      "MAE with RandForest: 191669\n",
      "Max nodes for DecisionTree: 400\n"
     ]
    }
   ],
   "source": [
    "#Edit here\n",
    "path = 'melb_data.csv'\n",
    "features = ['Rooms', 'Bathroom', 'Landsize', 'BuildingArea', \n",
    "                        'YearBuilt', 'Lattitude', 'Longtitude']\n",
    "model(path, features, 0)"
   ]
  },
  {
   "cell_type": "code",
   "execution_count": 12,
   "id": "2d299a88-0ebe-4d18-8a01-f36faed79364",
   "metadata": {},
   "outputs": [],
   "source": []
  },
  {
   "cell_type": "code",
   "execution_count": null,
   "id": "cb1cf371-5a4e-4d57-96f8-745ec6a46288",
   "metadata": {},
   "outputs": [],
   "source": []
  }
 ],
 "metadata": {
  "kernelspec": {
   "display_name": "Python 3 (ipykernel)",
   "language": "python",
   "name": "python3"
  },
  "language_info": {
   "codemirror_mode": {
    "name": "ipython",
    "version": 3
   },
   "file_extension": ".py",
   "mimetype": "text/x-python",
   "name": "python",
   "nbconvert_exporter": "python",
   "pygments_lexer": "ipython3",
   "version": "3.9.18"
  }
 },
 "nbformat": 4,
 "nbformat_minor": 5
}
